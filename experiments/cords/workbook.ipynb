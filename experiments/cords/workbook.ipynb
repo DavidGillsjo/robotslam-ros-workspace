{
 "cells": [
  {
   "cell_type": "code",
   "execution_count": 25,
   "metadata": {
    "collapsed": true
   },
   "outputs": [
    {
     "ename": "ImportError",
     "evalue": "No module named affine",
     "traceback": [
      "\u001b[0;31m\u001b[0m",
      "\u001b[0;31mImportError\u001b[0mTraceback (most recent call last)",
      "\u001b[0;32m<ipython-input-25-c239961c1ca3>\u001b[0m in \u001b[0;36m<module>\u001b[0;34m()\u001b[0m\n\u001b[0;32m----> 1\u001b[0;31m \u001b[0;32mimport\u001b[0m \u001b[0maffine\u001b[0m\u001b[0;34m\u001b[0m\u001b[0m\n\u001b[0m",
      "\u001b[0;31mImportError\u001b[0m: No module named affine"
     ],
     "output_type": "error"
    }
   ],
   "source": [
    "import affine"
   ]
  },
  {
   "cell_type": "code",
   "execution_count": 26,
   "metadata": {},
   "outputs": [
    {
     "name": "stdout",
     "output_type": "stream",
     "text": [
      "Pixel errors:\n[[  1.42108547e-14   8.88178420e-15]\n [  2.84217094e-14   5.32907052e-15]]\n"
     ]
    },
    {
     "data": {
      "text/plain": [
       "array([[  5.60000000e-05,   9.50000000e-05],\n       [  5.60000000e-05,   9.50000000e-05],\n       [  5.57089550e+01,   1.32106660e+01]])"
      ]
     },
     "execution_count": 26,
     "metadata": {},
     "output_type": "execute_result"
    }
   ],
   "source": [
    "gps_points_local = [[0.0, 0.0], [1.0, 1.0]]\n",
    "gps_points_geo = [[55.708955, 13.210666], [55.709067, 13.210856]]\n",
    "transform = Affine.from_tiepoints(gps_points_local,gps_points_geo)\n",
    "transform.trans_matrix"
   ]
  },
  {
   "cell_type": "code",
   "execution_count": null,
   "metadata": {},
   "outputs": [],
   "source": [
    "local_point_cloud = [[0.5, 0.5]]\n",
    "transform.transform(local_point_cloud)"
   ]
  }
 ],
 "metadata": {
  "kernelspec": {
   "display_name": "Python 2",
   "language": "python",
   "name": "python2"
  },
  "language_info": {
   "codemirror_mode": {
    "name": "ipython",
    "version": 2.0
   },
   "file_extension": ".py",
   "mimetype": "text/x-python",
   "name": "python",
   "nbconvert_exporter": "python",
   "pygments_lexer": "ipython2",
   "version": "2.7.6"
  }
 },
 "nbformat": 4,
 "nbformat_minor": 0
}